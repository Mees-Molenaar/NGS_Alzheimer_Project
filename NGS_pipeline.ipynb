{
 "cells": [
  {
   "cell_type": "markdown",
   "metadata": {},
   "source": [
    "# NGS pipeline for Alzheimer's Disease RNA-seq data\n",
    "\n",
    "For this project I have used only one control and one sample of someone of advanced AD."
   ]
  },
  {
   "cell_type": "code",
   "execution_count": 9,
   "metadata": {},
   "outputs": [],
   "source": [
    "import os"
   ]
  },
  {
   "cell_type": "markdown",
   "metadata": {},
   "source": [
    "Set up some global variables:"
   ]
  },
  {
   "cell_type": "code",
   "execution_count": 10,
   "metadata": {},
   "outputs": [],
   "source": [
    "# Working directory to the sequencing data (I use an external disk, since I dont have a lot of space left on the pc)\n",
    "os.environ['WORKDIR'] = '/media/mees/Elements/ngs_data/'\n",
    "# The directory for the reference genome\n",
    "os.environ['GENOMEDIR'] = '/media/mees/Elements/ngs_data/genomes/Homo_sapiens/ncbi-genomes-2020-06-22/'"
   ]
  },
  {
   "cell_type": "code",
   "execution_count": 7,
   "metadata": {},
   "outputs": [
    {
     "name": "stdout",
     "output_type": "stream",
     "text": [
      "\n",
      "2020-06-22T17:53:08 prefetch.2.10.7: 1) Downloading 'SRR2422918'...\n",
      "2020-06-22T17:53:08 prefetch.2.10.7:  Downloading via HTTPS...\n",
      "^C\n",
      "\n",
      "2020-06-22T17:53:23 fasterq-dump.2.10.7 int: buffer insufficient while reading uri within cloud module - cannot Get Cloud Location\n"
     ]
    }
   ],
   "source": [
    "!mkdir -p $WORKDIR\n",
    "!bash download_data.sh -d $WORKDIR"
   ]
  },
  {
   "cell_type": "markdown",
   "metadata": {},
   "source": [
    "After downloading the data and convert the .sra files to .fastq files, use FastQC to determine read quality."
   ]
  },
  {
   "cell_type": "code",
   "execution_count": 27,
   "metadata": {},
   "outputs": [
    {
     "name": "stdout",
     "output_type": "stream",
     "text": [
      "Started analysis of SRR2422918.fastq\n",
      "Approx 5% complete for SRR2422918.fastq\n",
      "Approx 10% complete for SRR2422918.fastq\n",
      "Approx 15% complete for SRR2422918.fastq\n",
      "Approx 20% complete for SRR2422918.fastq\n",
      "Approx 25% complete for SRR2422918.fastq\n",
      "Approx 30% complete for SRR2422918.fastq\n",
      "Approx 35% complete for SRR2422918.fastq\n",
      "Approx 40% complete for SRR2422918.fastq\n",
      "Approx 45% complete for SRR2422918.fastq\n",
      "Approx 50% complete for SRR2422918.fastq\n",
      "Approx 55% complete for SRR2422918.fastq\n",
      "Approx 60% complete for SRR2422918.fastq\n",
      "Approx 65% complete for SRR2422918.fastq\n",
      "Approx 70% complete for SRR2422918.fastq\n",
      "Approx 75% complete for SRR2422918.fastq\n",
      "Approx 80% complete for SRR2422918.fastq\n",
      "Approx 85% complete for SRR2422918.fastq\n",
      "Approx 90% complete for SRR2422918.fastq\n",
      "Approx 95% complete for SRR2422918.fastq\n",
      "Analysis complete for SRR2422918.fastq\n",
      "Started analysis of SRR2422926.fastq\n",
      "Approx 5% complete for SRR2422926.fastq\n",
      "Approx 10% complete for SRR2422926.fastq\n",
      "Approx 15% complete for SRR2422926.fastq\n",
      "Approx 20% complete for SRR2422926.fastq\n",
      "Approx 25% complete for SRR2422926.fastq\n",
      "Approx 30% complete for SRR2422926.fastq\n",
      "Approx 35% complete for SRR2422926.fastq\n",
      "Approx 40% complete for SRR2422926.fastq\n",
      "Approx 45% complete for SRR2422926.fastq\n",
      "Approx 50% complete for SRR2422926.fastq\n",
      "Approx 55% complete for SRR2422926.fastq\n",
      "Approx 60% complete for SRR2422926.fastq\n",
      "Approx 65% complete for SRR2422926.fastq\n",
      "Approx 70% complete for SRR2422926.fastq\n",
      "Approx 75% complete for SRR2422926.fastq\n",
      "Approx 80% complete for SRR2422926.fastq\n",
      "Approx 85% complete for SRR2422926.fastq\n",
      "Approx 90% complete for SRR2422926.fastq\n",
      "Approx 95% complete for SRR2422926.fastq\n",
      "Analysis complete for SRR2422926.fastq\n"
     ]
    }
   ],
   "source": [
    "!./fastqc.sh -d $WORKDIR "
   ]
  },
  {
   "cell_type": "markdown",
   "metadata": {},
   "source": [
    "I like to open the created reports of fastq to see if there are some abnormalities."
   ]
  },
  {
   "cell_type": "code",
   "execution_count": 28,
   "metadata": {},
   "outputs": [],
   "source": [
    "!firefox $WORKDIR/*.html"
   ]
  },
  {
   "cell_type": "markdown",
   "metadata": {},
   "source": [
    "From these reports it seems that the first 10 bp have an over representation of T, therefore we want to trim and remove the first 10 bases. And we are going to use the seqtk package."
   ]
  },
  {
   "cell_type": "code",
   "execution_count": null,
   "metadata": {},
   "outputs": [],
   "source": [
    "!./seqtk.sh -d $WORKDIR"
   ]
  },
  {
   "cell_type": "code",
   "execution_count": null,
   "metadata": {},
   "outputs": [],
   "source": []
  },
  {
   "cell_type": "code",
   "execution_count": null,
   "metadata": {},
   "outputs": [],
   "source": []
  }
 ],
 "metadata": {
  "kernelspec": {
   "display_name": "Python 3",
   "language": "python",
   "name": "python3"
  },
  "language_info": {
   "codemirror_mode": {
    "name": "ipython",
    "version": 3
   },
   "file_extension": ".py",
   "mimetype": "text/x-python",
   "name": "python",
   "nbconvert_exporter": "python",
   "pygments_lexer": "ipython3",
   "version": "3.6.9"
  }
 },
 "nbformat": 4,
 "nbformat_minor": 2
}
