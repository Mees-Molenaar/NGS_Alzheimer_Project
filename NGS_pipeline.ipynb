{
 "cells": [
  {
   "cell_type": "markdown",
   "metadata": {},
   "source": [
    "# NGS pipeline for Alzheimer's Disease RNA-seq data\n",
    "\n",
    "Pipeline to analyze RNA-seq data of an Alzheimer experiment. I have used 5 control samples and 5 Alzheimer samples."
   ]
  },
  {
   "cell_type": "code",
   "execution_count": 1,
   "metadata": {},
   "outputs": [],
   "source": [
    "import os\n",
    "import pandas as pd\n",
    "import csv\n",
    "from IPython.display import FileLink\n",
    "import matplotlib.pyplot as plt\n",
    "\n",
    "%matplotlib inline"
   ]
  },
  {
   "cell_type": "markdown",
   "metadata": {},
   "source": [
    "Initialize and setup some global variables:"
   ]
  },
  {
   "cell_type": "code",
   "execution_count": 11,
   "metadata": {},
   "outputs": [],
   "source": [
    "# The git directory\n",
    "os.environ['DIR'] = '/home/mees/NGS_Alzheimer/'\n",
    "# Working directory to the sequencing data (I use an external disk, since I dont have a lot of space left on the pc)\n",
    "os.environ['WORKDIR'] = '/media/mees/Elements/ngs_data/'\n",
    "# The directory to the downloaded genome\n",
    "os.environ['GENOMEDIR'] = '/media/mees/Elements/ngs_data/genomes/'\n",
    "# Location to save the indexed reference genome\n",
    "os.environ['REF_GENOME'] = '/media/mees/Elements/ngs_data/genomes/ref_genome/'\n",
    "# FastQC perl file (without extension)\n",
    "os.environ['FASTQC'] = '/home/mees/NGS/FastQC/fastqc'\n",
    "# Hisat2-build file (without extension) or command\n",
    "os.environ['HISAT_BUILD'] = '/home/mees/NGS_Alzheimer/hisat2-2.2.0/hisat2-build'\n",
    "# Hisat2 file (without extension) or command\n",
    "os.environ['HISAT'] = '/home/mees/NGS_Alzheimer/hisat2-2.2.0/hisat2'\n",
    "# Samtools file (without extension) or command\n",
    "os.environ['SAMTOOLS'] = 'samtools'\n",
    "# Directory for logs\n",
    "os.environ['LOGS'] = '/media/mees/Elements/ngs_data/logs/'\n",
    "!mkdir -p $LOGS"
   ]
  },
  {
   "cell_type": "markdown",
   "metadata": {},
   "source": [
    "## Download Data\n",
    "\n",
    "First download the human genome for reference and save it as genome.fa in $GENOMEDIR. (-q, so that wget does not output anything).\n",
    "\n",
    "Second, download the human gene transfer file for feature counting as genome.gtf in $GENOMEDIR.\n",
    "\n",
    "Third, download the sample data via SRA tools. This process is found in download_data.sh. This data is download in $WORKDIR."
   ]
  },
  {
   "cell_type": "code",
   "execution_count": 6,
   "metadata": {},
   "outputs": [],
   "source": [
    "!wget -q ftp://ftp.ensembl.org/pub/release-100/fasta/homo_sapiens/dna/Homo_sapiens.GRCh38.dna.primary_assembly.fa.gz\n",
    "!gzip -d Homo_sapiens.GRCh38.dna.primary_assembly.fa.gz\n",
    "!mkdir -p $GENOMEDIR\n",
    "!mv Homo_sapiens.GRCh38.dna.primary_assembly.fa $GENOMEDIR/genome.fa"
   ]
  },
  {
   "cell_type": "code",
   "execution_count": 7,
   "metadata": {
    "scrolled": true
   },
   "outputs": [],
   "source": [
    "!wget -q ftp://ftp.ensembl.org/pub/release-100/gtf/homo_sapiens/Homo_sapiens.GRCh38.100.gtf.gz\n",
    "!gzip -d Homo_sapiens.GRCh38.100.gtf.gz\n",
    "!mkdir -p $GENOMEDIR\n",
    "!mv Homo_sapiens.GRCh38.100.gtf $GENOMEDIR/genome.gtf"
   ]
  },
  {
   "cell_type": "code",
   "execution_count": 9,
   "metadata": {},
   "outputs": [],
   "source": [
    "!mkdir -p $WORKDIR\n",
    "!./src/download_data.sh -d $WORKDIR > $LOGS/download_data_log.txt 2> $LOGS/download_data_error_log.txt"
   ]
  },
  {
   "cell_type": "markdown",
   "metadata": {},
   "source": [
    "## Quality Control\n",
    "\n",
    "The quality of the RNA-seq data is determined using FastQC, which creates HTML reports. The script that contains calls to FastQC is fastqc.sh.\n",
    "\n",
    "U can specifiy -c to copy the final reports to another directory, for instance, I copy it to the git repository."
   ]
  },
  {
   "cell_type": "code",
   "execution_count": 10,
   "metadata": {},
   "outputs": [],
   "source": [
    "!mkdir -p data/FastQC"
   ]
  },
  {
   "cell_type": "code",
   "execution_count": 24,
   "metadata": {},
   "outputs": [
    {
     "name": "stdout",
     "output_type": "stream",
     "text": [
      "^C\r\n",
      "'/media/mees/Elements/ngs_data//SRR6145423/FastQC/SRR6145423.sra_fastqc.zip' -> '/home/mees/NGS_Alzheimer//data/FastQC/SRR6145423.sra_fastqc.zip'\r\n",
      "'/media/mees/Elements/ngs_data//SRR6145423/FastQC/SRR6145423.sra_fastqc.html' -> '/home/mees/NGS_Alzheimer//data/FastQC/SRR6145423.sra_fastqc.html'\r\n"
     ]
    }
   ],
   "source": [
    "!./src/fastqc.sh -d $WORKDIR -l $FASTQC -c $DIR/data 2> $LOGS/FastQC_log.txt"
   ]
  },
  {
   "cell_type": "code",
   "execution_count": 12,
   "metadata": {},
   "outputs": [
    {
     "data": {
      "text/html": [
       "<a href='data/FastQC/SRR6145434.sra_fastqc.html' target='_blank'>data/FastQC/SRR6145434.sra_fastqc.html</a><br>"
      ],
      "text/plain": [
       "/home/mees/NGS_Alzheimer/data/FastQC/SRR6145434.sra_fastqc.html"
      ]
     },
     "metadata": {},
     "output_type": "display_data"
    },
    {
     "data": {
      "text/html": [
       "<a href='data/FastQC/SRR6145433.sra_fastqc.html' target='_blank'>data/FastQC/SRR6145433.sra_fastqc.html</a><br>"
      ],
      "text/plain": [
       "/home/mees/NGS_Alzheimer/data/FastQC/SRR6145433.sra_fastqc.html"
      ]
     },
     "metadata": {},
     "output_type": "display_data"
    },
    {
     "data": {
      "text/html": [
       "<a href='data/FastQC/SRR6145425.sra_fastqc.html' target='_blank'>data/FastQC/SRR6145425.sra_fastqc.html</a><br>"
      ],
      "text/plain": [
       "/home/mees/NGS_Alzheimer/data/FastQC/SRR6145425.sra_fastqc.html"
      ]
     },
     "metadata": {},
     "output_type": "display_data"
    },
    {
     "data": {
      "text/html": [
       "<a href='data/FastQC/SRR6145427.sra_fastqc.html' target='_blank'>data/FastQC/SRR6145427.sra_fastqc.html</a><br>"
      ],
      "text/plain": [
       "/home/mees/NGS_Alzheimer/data/FastQC/SRR6145427.sra_fastqc.html"
      ]
     },
     "metadata": {},
     "output_type": "display_data"
    },
    {
     "data": {
      "text/html": [
       "<a href='data/FastQC/SRR6145426.sra_fastqc.html' target='_blank'>data/FastQC/SRR6145426.sra_fastqc.html</a><br>"
      ],
      "text/plain": [
       "/home/mees/NGS_Alzheimer/data/FastQC/SRR6145426.sra_fastqc.html"
      ]
     },
     "metadata": {},
     "output_type": "display_data"
    },
    {
     "data": {
      "text/html": [
       "<a href='data/FastQC/SRR6145424.sra_fastqc.html' target='_blank'>data/FastQC/SRR6145424.sra_fastqc.html</a><br>"
      ],
      "text/plain": [
       "/home/mees/NGS_Alzheimer/data/FastQC/SRR6145424.sra_fastqc.html"
      ]
     },
     "metadata": {},
     "output_type": "display_data"
    },
    {
     "data": {
      "text/html": [
       "<a href='data/FastQC/SRR6145435.sra_fastqc.html' target='_blank'>data/FastQC/SRR6145435.sra_fastqc.html</a><br>"
      ],
      "text/plain": [
       "/home/mees/NGS_Alzheimer/data/FastQC/SRR6145435.sra_fastqc.html"
      ]
     },
     "metadata": {},
     "output_type": "display_data"
    },
    {
     "data": {
      "text/html": [
       "<a href='data/FastQC/SRR6145436.sra_fastqc.html' target='_blank'>data/FastQC/SRR6145436.sra_fastqc.html</a><br>"
      ],
      "text/plain": [
       "/home/mees/NGS_Alzheimer/data/FastQC/SRR6145436.sra_fastqc.html"
      ]
     },
     "metadata": {},
     "output_type": "display_data"
    },
    {
     "data": {
      "text/html": [
       "<a href='data/FastQC/SRR6145423.sra_fastqc.html' target='_blank'>data/FastQC/SRR6145423.sra_fastqc.html</a><br>"
      ],
      "text/plain": [
       "/home/mees/NGS_Alzheimer/data/FastQC/SRR6145423.sra_fastqc.html"
      ]
     },
     "metadata": {},
     "output_type": "display_data"
    },
    {
     "data": {
      "text/html": [
       "<a href='data/FastQC/SRR6145437.sra_fastqc.html' target='_blank'>data/FastQC/SRR6145437.sra_fastqc.html</a><br>"
      ],
      "text/plain": [
       "/home/mees/NGS_Alzheimer/data/FastQC/SRR6145437.sra_fastqc.html"
      ]
     },
     "metadata": {},
     "output_type": "display_data"
    }
   ],
   "source": [
    "for file in os.listdir('data/FastQC'):\n",
    "    if file.endswith(\".html\"):\n",
    "        html_file = FileLink(os.path.join('data/FastQC', file))\n",
    "        display(html_file)"
   ]
  },
  {
   "cell_type": "markdown",
   "metadata": {},
   "source": [
    "FastQC shows that there are Truseq adapter index 7 and NNNNNNN sequences.\n",
    "We want to remove these sequences using cutadapt, however, this is still in progress at the bottom of this notebook."
   ]
  },
  {
   "cell_type": "markdown",
   "metadata": {},
   "source": [
    "## Alignment with Hisat2\n",
    "\n",
    "First, hisat2 needs to build the reference genome using hisat2-build, which can be found in build.sh.\n",
    "\n",
    "Then, the samples can be aligned using hisat2, which can be found in align.sh."
   ]
  },
  {
   "cell_type": "code",
   "execution_count": 32,
   "metadata": {},
   "outputs": [
    {
     "name": "stdout",
     "output_type": "stream",
     "text": [
      "^C\r\n"
     ]
    }
   ],
   "source": [
    "!./src/build.sh -g $GENOMEDIR/genome.fa -o $REF_GENOME -l $HISAT_BUILD > $LOGS/hisat_build_log.txt 2> $LOGS/hisat_build_error_log.txt"
   ]
  },
  {
   "cell_type": "code",
   "execution_count": 33,
   "metadata": {},
   "outputs": [
    {
     "name": "stdout",
     "output_type": "stream",
     "text": [
      "^C\r\n",
      "(ERR): hisat2-align died with signal 2 (INT) \r\n"
     ]
    }
   ],
   "source": [
    "!./src/align.sh -g $REF_GENOME -f $WORKDIR/ -l $HISAT > $LOGS/hisat_align_log.txt"
   ]
  },
  {
   "cell_type": "markdown",
   "metadata": {},
   "source": [
    "## Converting .sam to .bam\n",
    "In order to view the alignment in IGV and run HTSeq, the created sam files should processed, which is performed with samtools in samtobam.sh.\n",
    "\n",
    "1. First, the files must be converted to bam files.\n",
    "2. Second, the bam files must be sorted.\n",
    "3. Third, the sorted bam files must be indexed."
   ]
  },
  {
   "cell_type": "code",
   "execution_count": 34,
   "metadata": {},
   "outputs": [
    {
     "name": "stdout",
     "output_type": "stream",
     "text": [
      "[main_samview] fail to read the header from \"/media/mees/Elements/ngs_data//SRR6145423/Hisat2/SRR6145423.sam\".\n",
      "samtools sort: failed to read header from \"/media/mees/Elements/ngs_data//SRR6145423/Hisat2/SRR6145423.bam\"\n",
      "^C\n"
     ]
    }
   ],
   "source": [
    "!./src/samtobam.sh -d $WORKDIR -l $SAMTOOLS > $LOGS/samtobam_log.txt"
   ]
  },
  {
   "cell_type": "markdown",
   "metadata": {},
   "source": [
    "# Counting Gene Features\n",
    "\n",
    "Now that the alignment is finished, we count reads that are aligned to genes using HTSeq-count, which can be found in htseq.sh. In this script, it is specified that the alignments are ordered on position and that it is unstranded."
   ]
  },
  {
   "cell_type": "code",
   "execution_count": 36,
   "metadata": {},
   "outputs": [
    {
     "name": "stdout",
     "output_type": "stream",
     "text": [
      "^C\r\n"
     ]
    }
   ],
   "source": [
    "!./src/htseq.sh -d $WORKDIR -g $GENOMEDIR/genome.gtf > $LOGS/htseq_log.txt 2> $LOGS/htseq_error_log.txt"
   ]
  },
  {
   "cell_type": "markdown",
   "metadata": {},
   "source": [
    "## Differential Expression Using DESeq2\n",
    "\n",
    "Now let us use DESeq2 to determine the differential expression.\n",
    "\n",
    "First, make a file containing all the necessary information for running DESeq2.\n",
    "\n",
    "Then, the R-script (DESeq2.r) can be executed. In this R script, the data is also plotted in various figures, which can be found in Rplots.pdf."
   ]
  },
  {
   "cell_type": "code",
   "execution_count": 61,
   "metadata": {},
   "outputs": [],
   "source": [
    "# Directory where the alignment etc. data is stored\n",
    "workdir = os.environ['WORKDIR']\n",
    "\n",
    "# Location the the file with the metadata\n",
    "metadata = 'metadata.txt'\n",
    "        \n",
    "df = pd.read_csv(metadata, sep=',')\n",
    "\n",
    "\n",
    "# Create a dictionary containing the necessary information\n",
    "file_info = {}\n",
    "\n",
    "# Adding HTSeq data to the dictionary\n",
    "for file in os.listdir(workdir):\n",
    "    split = file.split('.')\n",
    "    if len(split) == 1 and split[0].startswith('SRR'):\n",
    "        condition = df[df['Run'] == split[0]]['study_group'].values[0]\n",
    "        file_info[split[0]] = {}\n",
    "        file_info[split[0]]['HTSeq'] = os.path.join(workdir, split[0], 'Hisat2/' + split[0] + '_HTScount.txt')\n",
    "        file_info[split[0]]['condition'] = condition.replace(', ', '_')\n",
    "        \n",
    "# Write data to a csv file      \n",
    "file_out = 'DESeq2_data_table.csv'\n",
    "with open(file_out, 'w') as f:\n",
    "    f.write('SRR,HTSeq,condition')\n",
    "    \n",
    "    for key in file_info.keys():\n",
    "        f.write(\"\\n\" + key + ',' + file_info[key]['HTSeq'] + ',' + file_info[key]['condition'])"
   ]
  },
  {
   "cell_type": "code",
   "execution_count": 41,
   "metadata": {
    "scrolled": false
   },
   "outputs": [
    {
     "name": "stdout",
     "output_type": "stream",
     "text": [
      "^C\r\n"
     ]
    }
   ],
   "source": [
    "!mkdir -p $WORKDIR/DESeq\n",
    "!R < ./src/DESeq2.r --no-save > /dev/null 2> /dev/null\n",
    "!cp -p $WORKDIR/DESeq/output.csv $DIR/data/DESeq_output.csv\n",
    "!cp -p $WORKDIR/DESeq/output_LFC.csv $DIR/data/DESeq_LFC_output.csv"
   ]
  }
 ],
 "metadata": {
  "kernelspec": {
   "display_name": "Python 3",
   "language": "python",
   "name": "python3"
  },
  "language_info": {
   "codemirror_mode": {
    "name": "ipython",
    "version": 3
   },
   "file_extension": ".py",
   "mimetype": "text/x-python",
   "name": "python",
   "nbconvert_exporter": "python",
   "pygments_lexer": "ipython3",
   "version": "3.6.9"
  }
 },
 "nbformat": 4,
 "nbformat_minor": 2
}
