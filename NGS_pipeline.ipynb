{
 "cells": [
  {
   "cell_type": "markdown",
   "metadata": {},
   "source": [
    "# NGS pipeline for Alzheimer's Disease RNA-seq data\n",
    "\n",
    "For this project I have used only one control and one sample of someone of advanced AD."
   ]
  },
  {
   "cell_type": "code",
   "execution_count": 2,
   "metadata": {},
   "outputs": [],
   "source": [
    "import os"
   ]
  },
  {
   "cell_type": "markdown",
   "metadata": {},
   "source": [
    "Set up some global variables:"
   ]
  },
  {
   "cell_type": "code",
   "execution_count": 6,
   "metadata": {},
   "outputs": [],
   "source": [
    "# Working directory to the sequencing data (I use an external disk, since I dont have a lot of space left on the pc)\n",
    "os.environ['WORKDIR'] = '/media/mees/Elements/ngs_data/'\n",
    "# The directory for the reference genome\n",
    "os.environ['GENOMEDIR'] = '/media/mees/Elements/ngs_data/genomes/Homo_sapiens/ncbi-genomes-2020-06-22/'"
   ]
  },
  {
   "cell_type": "code",
   "execution_count": 7,
   "metadata": {},
   "outputs": [
    {
     "name": "stdout",
     "output_type": "stream",
     "text": [
      "\n",
      "2020-06-22T17:53:08 prefetch.2.10.7: 1) Downloading 'SRR2422918'...\n",
      "2020-06-22T17:53:08 prefetch.2.10.7:  Downloading via HTTPS...\n",
      "^C\n",
      "\n",
      "2020-06-22T17:53:23 fasterq-dump.2.10.7 int: buffer insufficient while reading uri within cloud module - cannot Get Cloud Location\n"
     ]
    }
   ],
   "source": [
    "!mkdir -p $WORKDIR\n",
    "!bash download_data.sh -d $WORKDIR"
   ]
  },
  {
   "cell_type": "code",
   "execution_count": null,
   "metadata": {},
   "outputs": [],
   "source": []
  }
 ],
 "metadata": {
  "kernelspec": {
   "display_name": "Python 3",
   "language": "python",
   "name": "python3"
  },
  "language_info": {
   "codemirror_mode": {
    "name": "ipython",
    "version": 3
   },
   "file_extension": ".py",
   "mimetype": "text/x-python",
   "name": "python",
   "nbconvert_exporter": "python",
   "pygments_lexer": "ipython3",
   "version": "3.6.9"
  }
 },
 "nbformat": 4,
 "nbformat_minor": 2
}
